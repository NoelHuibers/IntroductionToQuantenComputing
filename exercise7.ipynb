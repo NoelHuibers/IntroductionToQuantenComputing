{
 "cells": [
  {
   "cell_type": "markdown",
   "id": "ee6eb892",
   "metadata": {},
   "source": [
    "# Quantum Approximate Optimisation Algorithm for Solving the Max-Cut Problem\n"
   ]
  },
  {
   "cell_type": "markdown",
   "id": "8cfe4a80",
   "metadata": {},
   "source": [
    "<div class=\"alert alert-block alert-warning\">\n",
    "\n",
    "Your task is to fill all the gaps in the code marked <b>TODO</b>.\n",
    "\n",
    "</div>\n"
   ]
  },
  {
   "cell_type": "code",
   "execution_count": 1,
   "id": "3508c2bc",
   "metadata": {},
   "outputs": [
    {
     "name": "stdout",
     "output_type": "stream",
     "text": [
      "Note: you may need to restart the kernel to use updated packages.\n"
     ]
    },
    {
     "name": "stderr",
     "output_type": "stream",
     "text": [
      "WARNING: Skipping c:\\Users\\noel_\\anaconda3\\Lib\\site-packages\\matplotlib-3.8.4.dist-info due to invalid metadata entry 'name'\n",
      "WARNING: Skipping c:\\Users\\noel_\\anaconda3\\Lib\\site-packages\\matplotlib-3.8.4.dist-info due to invalid metadata entry 'name'\n",
      "WARNING: Skipping c:\\Users\\noel_\\anaconda3\\Lib\\site-packages\\matplotlib-3.8.4.dist-info due to invalid metadata entry 'name'\n",
      "    WARNING: Skipping c:\\Users\\noel_\\anaconda3\\Lib\\site-packages\\matplotlib-3.8.4.dist-info due to invalid metadata entry 'name'\n",
      "    WARNING: Skipping c:\\Users\\noel_\\anaconda3\\Lib\\site-packages\\matplotlib-3.8.4.dist-info due to invalid metadata entry 'name'\n",
      "WARNING: Skipping c:\\Users\\noel_\\anaconda3\\Lib\\site-packages\\matplotlib-3.8.4.dist-info due to invalid metadata entry 'name'\n",
      "WARNING: Skipping c:\\Users\\noel_\\anaconda3\\Lib\\site-packages\\matplotlib-3.8.4.dist-info due to invalid metadata entry 'name'\n",
      "WARNING: Skipping c:\\Users\\noel_\\anaconda3\\Lib\\site-packages\\matplotlib-3.8.4.dist-info due to invalid metadata entry 'name'\n",
      "WARNING: Skipping c:\\Users\\noel_\\anaconda3\\Lib\\site-packages\\matplotlib-3.8.4.dist-info due to invalid metadata entry 'name'\n",
      "WARNING: Skipping c:\\Users\\noel_\\anaconda3\\Lib\\site-packages\\matplotlib-3.8.4.dist-info due to invalid metadata entry 'name'\n"
     ]
    }
   ],
   "source": [
    "# Install all the necessary libraries\n",
    "%pip install --quiet qiskit==1.1.0 qiskit_aer==0.14.2 networkx==3.3 pylatexenc==2.10"
   ]
  },
  {
   "cell_type": "markdown",
   "id": "ea7714d4",
   "metadata": {},
   "source": [
    "<div class=\"alert alert-block alert-info\">\n",
    "<b> Task 1: </b> <br>\n",
    "Use the NetworkX library to prepare an <strong>undirected connected graph</strong> (a graph where all vertices are connected by edges, ensuring a path exists between any two vertices) that:\n",
    "\n",
    "- contains 4 vertices;\n",
    "- the numbering of the vertices is $0, ..., 3$;\n",
    "- the connections between the vertices are arbitrary;\n",
    "- edges have no weights.\n"
   ]
  },
  {
   "cell_type": "code",
   "execution_count": 6,
   "id": "f5726204",
   "metadata": {
    "tags": []
   },
   "outputs": [
    {
     "data": {
      "image/png": "[encoded data removed]",
      "text/plain": [
       "<Figure size 640x480 with 1 Axes>"
      ]
     },
     "metadata": {},
     "output_type": "display_data"
    }
   ],
   "source": [
    "import networkx as nx\n",
    "\n",
    "# Create a graph\n",
    "graph = nx.Graph()\n",
    "graph.add_nodes_from([0, 1, 2, 3])\n",
    "graph.add_edges_from([(0, 1), (1, 2), (2, 3), (0, 2)])\n",
    "\n",
    "# Display the graph\n",
    "nx.draw(graph, with_labels=True, alpha=0.8, node_size=500)\n",
    "\n",
    "assert nx.is_connected(graph) == True, \"The graph has to be connected!\""
   ]
  },
  {
   "cell_type": "code",
   "execution_count": 8,
   "id": "5425638d",
   "metadata": {
    "tags": []
   },
   "outputs": [],
   "source": [
    "# This function finds the solution using a purely classical solver (a reference method)\n",
    "def get_classical_solution(graph):\n",
    "    \"\"\"Args:\n",
    "        graph: networkx graph\n",
    "    Returns:\n",
    "        max_cut_value: (int) the value of maximum cut\n",
    "        sets: (tuple[set[int], set[int]]) the split of the vertices into two sets\n",
    "        result_in_binary: (str) binary encoding of the result\n",
    "    \"\"\"\n",
    "    max_cut_value, sets = nx.algorithms.approximation.one_exchange(graph)\n",
    "    result_in_binary = \"\"\n",
    "    for i in range(len(graph.nodes())):\n",
    "        if i in sets[0]:\n",
    "            result_in_binary += \"0\"  # if the node is in the first set mark it as \"0\"\n",
    "        else:\n",
    "            result_in_binary += \"1\"  # otherwise mark it as \"1\"\n",
    "    return max_cut_value, sets, result_in_binary"
   ]
  },
  {
   "cell_type": "code",
   "execution_count": 9,
   "id": "c8cf1c75",
   "metadata": {
    "tags": []
   },
   "outputs": [
    {
     "name": "stdout",
     "output_type": "stream",
     "text": [
      "The value of the maximum cut is: 3.\n",
      "The nodes are divided into the following sets: ({2}, {0, 1, 3}).\n",
      "The result encoded in binary is: 1101.\n"
     ]
    }
   ],
   "source": [
    "classical_solution = get_classical_solution(graph)\n",
    "print(\n",
    "    f\"\"\"The value of the maximum cut is: {classical_solution[0]}.\n",
    "The nodes are divided into the following sets: {classical_solution[1]}.\n",
    "The result encoded in binary is: {classical_solution[2]}.\"\"\"\n",
    ")"
   ]
  },
  {
   "cell_type": "markdown",
   "id": "73369fa1",
   "metadata": {
    "vscode": {
     "languageId": "latex"
    }
   },
   "source": [
    "<div class=\"alert alert-block alert-info\">\n",
    "\n",
    "<b>Task 2: </b> <br>\n",
    "\n",
    "Implement the following cost function $C$ that converts a binary string $\\boldsymbol{x}$ \"$x_0 x_1 \\dots x_{n-1}$\" into the cost function value, $E$ is the set of edges: $$C(\\boldsymbol{x}) = \\sum_{(i,j) \\in E} (-x_i -x_j + 2x_ix_j)$$\n",
    "\n",
    "<br> <b>Note:</b> Since the QAOA is a minimalisation algorithm, and the problem is a maximization problem (<b>Max</b>-Cut), the cost function presented above is multiplied by -1 multiply compared to the formula in the lecture notes.\n",
    "\n",
    "</div>\n"
   ]
  },
  {
   "cell_type": "code",
   "execution_count": 10,
   "id": "b9a4c162",
   "metadata": {
    "tags": []
   },
   "outputs": [],
   "source": [
    "def maxcut_cost_function(x, graph):\n",
    "    \"\"\"Args:\n",
    "        x: (str) a binary string representing the assigment of vertices\n",
    "        graph: networkx graph\n",
    "    Returns:\n",
    "        obj: (float) cost function value\n",
    "    \"\"\"\n",
    "    cost_value = 0\n",
    "    for i, j in graph.edges():\n",
    "        xi = int(x[i])\n",
    "        xj = int(x[j])\n",
    "        edge_cost = -xi - xj + 2 * xi * xj\n",
    "        cost_value += edge_cost\n",
    "    return cost_value"
   ]
  },
  {
   "cell_type": "code",
   "execution_count": 12,
   "id": "684b144c",
   "metadata": {
    "tags": []
   },
   "outputs": [],
   "source": [
    "# If the function is implemented incorrectly, the assert below will return an error\n",
    "assert (\n",
    "    maxcut_cost_function(classical_solution[2], graph) == -classical_solution[0]\n",
    "), \"The function maxcut_obj is not correctly implemented\""
   ]
  },
  {
   "cell_type": "markdown",
   "id": "44f0a8d6",
   "metadata": {},
   "source": [
    "## THE QUANTUM PART OF THE ALGORITHM\n",
    "\n",
    "Represent the optimisation problem as a parameterized quantum circuit.\n"
   ]
  },
  {
   "cell_type": "markdown",
   "id": "ba9363ed",
   "metadata": {},
   "source": [
    "<div class=\"alert alert-block alert-info\">\n",
    "<b>Task 3: </b> <br>\n",
    "Implement the QAOA circuit\n",
    "\n",
    "1. Create a quantum circuit with $n$ qubits, where $n$ is the number of vertices in the graph.\n",
    "2. Add a Hadamard gate on each of the qubits.\n",
    "3. Add the part of the circuit representing the cost Hamiltonian:\n",
    "\n",
    "   1. If an edge exists between the vertices $v_i$ and $v_j$ ($i<j$) then apply the following gate sequence:\n",
    "\n",
    "   <img src=\"https://i.imgur.com/hO54hXD.png\" title=\"Sequence of gates encoding the cost hamiltonian\" width=\"350\"/>\n",
    "\n",
    "   2. (Optional) Add a barrier after the above sequence of gates to make the circuit visualization easier to read.\n",
    "   3. Repeat this gate sequence for all edges in the graph.\n",
    "\n",
    "4. Create the part of the circuit representing the mixing Hamiltonian:\n",
    "\n",
    "   1. Apply the following gate on each of the qubits:\n",
    "\n",
    "   <img src=\"https://imgur.com/5X03a16.png\" title=\"Sequence of gates encoding the cost hamiltonian\" width=\"350\"/>\n",
    "\n",
    "5. Add a measurement on each qubit.\n",
    "\n",
    "---\n",
    "\n",
    "<b>Hint:</b> Example circuit for a Max-Cut problem consisting of 2 vertices:\n",
    "\n",
    "<img src=\"https://imgur.com/LgczMGB.png\" title=\"source: imgur.com\" />\n",
    "</div>\n"
   ]
  },
  {
   "cell_type": "code",
   "execution_count": 14,
   "id": "1908b0b7",
   "metadata": {
    "tags": []
   },
   "outputs": [],
   "source": [
    "from qiskit import QuantumCircuit\n",
    "\n",
    "\n",
    "# Create the QAOA circuit\n",
    "\n",
    "\n",
    "def create_qaoa_circuit(graph, angles):\n",
    "    \"\"\"Args:\n",
    "        graph: networkx graph\n",
    "        theta: (list) unitary parameters\n",
    "    Returns:\n",
    "        (QuantumCircuit) qiskit circuit\n",
    "    \"\"\"\n",
    "    assert len(angles) % 2 == 0, \"The number of angles should be even\"\n",
    "\n",
    "    p = len(angles) // 2\n",
    "    gammas = angles[0::2]\n",
    "    betas = angles[1::2]\n",
    "\n",
    "    # 3.1 Create a quantum circuit\n",
    "    nqubits = len(graph.nodes)\n",
    "    quantum_circuit = QuantumCircuit(nqubits)\n",
    "\n",
    "    # 3.2 Add Hadamard gates\n",
    "    for qubit in range(nqubits):\n",
    "        quantum_circuit.h(qubit)\n",
    "\n",
    "    for layer_index in range(p):\n",
    "        # 3.3 Add the gate sequence representing the cost Hamiltonian\n",
    "        for i, j in graph.edges():\n",
    "            if i < j:\n",
    "                quantum_circuit.cz(i, j)\n",
    "                quantum_circuit.rz(gammas[layer_index], i)\n",
    "                quantum_circuit.rz(gammas[layer_index], j)\n",
    "\n",
    "        quantum_circuit.barrier()\n",
    "\n",
    "        # 3.4 Add the gate representing the mixer Hamiltonian\n",
    "        for qubit in range(nqubits):\n",
    "            quantum_circuit.rx(2 * betas[layer_index], qubit)\n",
    "\n",
    "    # 3.5 Measure all qubits\n",
    "    quantum_circuit.measure_all()\n",
    "\n",
    "    return quantum_circuit"
   ]
  },
  {
   "cell_type": "code",
   "execution_count": 15,
   "id": "c7f3b532",
   "metadata": {},
   "outputs": [
    {
     "data": {
      "image/png": "[encoded data removed]",
      "text/plain": [
       "<Figure size 1500.11x451.5 with 1 Axes>"
      ]
     },
     "execution_count": 15,
     "metadata": {},
     "output_type": "execute_result"
    }
   ],
   "source": [
    "# This code creates the QAOA circuit for the graph to verify the correct application of gates\n",
    "angles = [0.5, 1.0]  # gamma_1, beta_1\n",
    "create_qaoa_circuit(graph, angles).draw(output=\"mpl\")"
   ]
  },
  {
   "cell_type": "code",
   "execution_count": 16,
   "id": "848adc47",
   "metadata": {},
   "outputs": [],
   "source": [
    "# Below we have functions that calculate how ‘good’ the angles are\n",
    "# based on measurements from the quantum circuit.\n",
    "# The closer the expectation value to the negated correct result the better.\n",
    "\n",
    "from qiskit_aer import Aer\n",
    "\n",
    "\n",
    "# This function calculates the expectation value of the results\n",
    "def compute_expectation(counts, graph):\n",
    "    \"\"\"Args:\n",
    "        counts: (dict) key as bit string, val as count\n",
    "        graph: networkx graph\n",
    "    Returns:\n",
    "        avg: (float) expectation value\n",
    "    \"\"\"\n",
    "    avg = 0\n",
    "    sum_count = 0\n",
    "    for bit_string, count in counts.items():\n",
    "        obj = maxcut_cost_function(\n",
    "            bit_string[::-1], graph\n",
    "        )  # the bit-string needs to be reversed due\n",
    "        # to the way that Qiskit returns the results\n",
    "        avg += obj * count\n",
    "        sum_count += count\n",
    "    return avg / sum_count\n",
    "\n",
    "\n",
    "# This function executes the circuit on the chosen backend\n",
    "def get_expectation(graph, shots=512):\n",
    "    \"\"\"Args:\n",
    "    graph: networkx graph\n",
    "    \"\"\"\n",
    "    backend = Aer.get_backend(\"qasm_simulator\")\n",
    "    backend.shots = shots\n",
    "\n",
    "    def execute_circuit(angles):\n",
    "        qc = create_qaoa_circuit(graph, angles)\n",
    "        counts = backend.run(qc, seed_simulator=10, nshots=512).result().get_counts()\n",
    "        return compute_expectation(counts, graph)\n",
    "\n",
    "    return execute_circuit"
   ]
  },
  {
   "cell_type": "markdown",
   "id": "175e9b2e",
   "metadata": {},
   "source": [
    "## THE CLASSICAL PART OF THE ALGORITHM\n",
    "\n",
    "Use a classical optimiser to optimise the initial values of the <b>$\\gamma$</b> and <b>$\\beta$</b> angles to solve the Max-Cut problem.\n"
   ]
  },
  {
   "cell_type": "markdown",
   "id": "b976938e",
   "metadata": {},
   "source": [
    "<div class=\"alert alert-block alert-info\">\n",
    "<b>Task 4: </b> <br>\n",
    "\n",
    "Try to optimise the values of the parameterised quantum gates (angles) to get the best results.\n",
    "\n",
    "1. Set a classical optimization method chosen from <a href=\"https://docs.scipy.org/doc/scipy/reference/generated/scipy.optimize.minimize.html\" title=\"SciPy minimize\">SciPy minimize</a> and compare the number of correct results obtained when increasing the depth $p$ of the quantum circuit.\n",
    "\n",
    "   1. $p=1: [\\gamma_1, \\beta_1]$;\n",
    "   2. $p=5: [\\gamma_1, \\beta_1, \\dots, \\gamma_5, \\beta_5]$;\n",
    "   3. $p=10: [\\gamma_1, \\beta_1, \\dots, \\gamma_{10}, \\beta_{10}]$.\n",
    "\n",
    "   <b>Note:</b> If you are going to use a random number generator, set a seed to get reproducible results.\n",
    "\n",
    "2. Choose a different classical optimisation method from <a href=\"https://docs.scipy.org/doc/scipy/reference/generated/scipy.optimize.minimize.html\" title=\"SciPy minimize\">SciPy minimize</a> than in task 4.1 and compare its results for $p=10$ with the results from the subtask 4.1.C. Does the choice of classical optimizer affect the number of correct results?\n"
   ]
  },
  {
   "cell_type": "code",
   "execution_count": 21,
   "id": "6e5a4107",
   "metadata": {},
   "outputs": [
    {
     "name": "stdout",
     "output_type": "stream",
     "text": [
      "Initial angles for p=1: [0.417022   0.72032449]\n",
      "Optimization result for p=1 using COBYLA:  message: Optimization terminated successfully.\n",
      " success: True\n",
      "  status: 1\n",
      "     fun: -2.1357421875\n",
      "       x: [ 8.498e-01  1.386e+00]\n",
      "    nfev: 30\n",
      "   maxcv: 0.0\n",
      "Initial angles for p=5: [1.14374817e-04 3.02332573e-01 1.46755891e-01 9.23385948e-02\n",
      " 1.86260211e-01 3.45560727e-01 3.96767474e-01 5.38816734e-01\n",
      " 4.19194514e-01 6.85219500e-01]\n",
      "Optimization result for p=5 using COBYLA:  message: Optimization terminated successfully.\n",
      " success: True\n",
      "  status: 1\n",
      "     fun: -2.6845703125\n",
      "       x: [-7.007e-04  1.583e+00  1.204e+00 -3.133e-01 -2.702e-02\n",
      "            1.487e+00 -2.438e-01  4.540e-01  2.484e-01  3.991e-01]\n",
      "    nfev: 116\n",
      "   maxcv: 0.0\n",
      "Initial angles for p=10: [0.20445225 0.87811744 0.02738759 0.67046751 0.4173048  0.55868983\n",
      " 0.14038694 0.19810149 0.80074457 0.96826158 0.31342418 0.69232262\n",
      " 0.87638915 0.89460666 0.08504421 0.03905478 0.16983042 0.8781425\n",
      " 0.09834683 0.42110763]\n",
      "Optimization result for p=10 using COBYLA:  message: Optimization terminated successfully.\n",
      " success: True\n",
      "  status: 1\n",
      "     fun: -2.8857421875\n",
      "       x: [ 1.524e+00  4.654e-01 ...  1.637e-01  2.867e-01]\n",
      "    nfev: 209\n",
      "   maxcv: 0.0\n",
      "initial angles: [0.95788953 0.53316528 0.69187711 0.31551563 0.68650093 0.83462567\n",
      " 0.01828828 0.75014431 0.98886109 0.74816565 0.28044399 0.78927933\n",
      " 0.10322601 0.44789353 0.9085955  0.29361415 0.28777534 0.13002857\n",
      " 0.01936696 0.67883553]\n",
      "  message: Optimization terminated successfully.\n",
      "  success: True\n",
      "   status: 0\n",
      "      fun: -1.8740234375\n",
      "        x: [ 9.579e-01  5.332e-01 ...  1.937e-02  6.788e-01]\n",
      "      nit: 0\n",
      "      jac: [ 0.000e+00  0.000e+00 ...  0.000e+00  0.000e+00]\n",
      " hess_inv: [[1 0 ... 0 0]\n",
      "            [0 1 ... 0 0]\n",
      "            ...\n",
      "            [0 0 ... 1 0]\n",
      "            [0 0 ... 0 1]]\n",
      "     nfev: 21\n",
      "     njev: 1\n"
     ]
    }
   ],
   "source": [
    "import random\n",
    "import numpy as np\n",
    "from scipy.optimize import minimize\n",
    "\n",
    "np.random.seed(37)\n",
    "p_values = [1, 5, 10]\n",
    "results = {}\n",
    "\n",
    "for p in p_values:\n",
    "    angles = np.random.rand(2 * p)\n",
    "    method = \"COBYLA\"\n",
    "\n",
    "    print(f\"Initial angles for p={p}: {angles}\")\n",
    "    result = minimize(get_expectation(graph), angles, method=method)\n",
    "    results[p] = result\n",
    "    print(f\"Optimization result for p={p} using {method}:\", result)\n",
    "\n",
    "expectation = get_expectation(graph)\n",
    "method = \"BFGS\"\n",
    "angles = np.random.rand(2 * 10)\n",
    "\n",
    "print(f\"initial angles: {angles}\")\n",
    "result = minimize(expectation, angles, method=method)\n",
    "print(result)"
   ]
  },
  {
   "cell_type": "code",
   "execution_count": 18,
   "id": "d4883af7",
   "metadata": {},
   "outputs": [
    {
     "data": {
      "image/png": "[encoded data removed]",
      "text/plain": [
       "<Figure size 640x480 with 1 Axes>"
      ]
     },
     "execution_count": 18,
     "metadata": {},
     "output_type": "execute_result"
    }
   ],
   "source": [
    "# Visualize the results\n",
    "backend = Aer.get_backend(\"aer_simulator\")\n",
    "backend.shots = 512\n",
    "\n",
    "from qiskit.visualization import plot_histogram\n",
    "\n",
    "qaoa_circuit = create_qaoa_circuit(graph, result.x)\n",
    "counts = backend.run(qaoa_circuit, seed_simulator=42).result().get_counts()\n",
    "plot_histogram(counts)"
   ]
  }
 ],
 "metadata": {
  "kernelspec": {
   "display_name": "Python 3 (ipykernel)",
   "language": "python",
   "name": "python3"
  },
  "language_info": {
   "codemirror_mode": {
    "name": "ipython",
    "version": 3
   },
   "file_extension": ".py",
   "mimetype": "text/x-python",
   "name": "python",
   "nbconvert_exporter": "python",
   "pygments_lexer": "ipython3",
   "version": "3.11.9"
  },
  "widgets": {
   "application/vnd.jupyter.widget-state+json": {
    "state": {
     "0634d05a2de24300bd636b3df06b8ab8": {
      "model_module": "@jupyter-widgets/base",
      "model_module_version": "2.0.0",
      "model_name": "LayoutModel",
      "state": {
       "margin": "0px 0px 0px 37px",
       "width": "600px"
      }
     },
     "0a05d15a56ba48928618a4686d0ced1a": {
      "model_module": "@jupyter-widgets/controls",
      "model_module_version": "2.0.0",
      "model_name": "HTMLModel",
      "state": {
       "layout": "IPY_MODEL_b68ba77bb0494c718876fa8ae0600f46",
       "style": "IPY_MODEL_8abf4ea870b948b9a3da14bc3cead5d9",
       "value": "<h5>Backend</h5>"
      }
     },
     "1d79543e955b4d3ea7493f60e2849980": {
      "model_module": "@jupyter-widgets/base",
      "model_module_version": "2.0.0",
      "model_name": "LayoutModel",
      "state": {
       "width": "70px"
      }
     },
     "224d9f3194af40e0b5b41454c87ca5f2": {
      "model_module": "@jupyter-widgets/controls",
      "model_module_version": "2.0.0",
      "model_name": "HTMLModel",
      "state": {
       "layout": "IPY_MODEL_1d79543e955b4d3ea7493f60e2849980",
       "style": "IPY_MODEL_9a6d03e7393c4da88ae38c97c0a70962",
       "value": "<h5>Queue</h5>"
      }
     },
     "2af6ce5075f04717ba16fea8e7e2fcc6": {
      "model_module": "@jupyter-widgets/controls",
      "model_module_version": "2.0.0",
      "model_name": "HTMLStyleModel",
      "state": {
       "description_width": "",
       "font_size": null,
       "text_color": null
      }
     },
     "2c7ab8487735482ea8cac3bb2d9d9340": {
      "model_module": "@jupyter-widgets/controls",
      "model_module_version": "2.0.0",
      "model_name": "HBoxModel",
      "state": {
       "children": [
        "IPY_MODEL_3c6b46cdd76b4109b553a39c192a7c9c",
        "IPY_MODEL_0a05d15a56ba48928618a4686d0ced1a",
        "IPY_MODEL_2d084ffe7c6c4c008ed3dc4e882005e3",
        "IPY_MODEL_224d9f3194af40e0b5b41454c87ca5f2",
        "IPY_MODEL_bc3920753c5348a6a5f82a42b5068ad4"
       ],
       "layout": "IPY_MODEL_0634d05a2de24300bd636b3df06b8ab8"
      }
     },
     "2d084ffe7c6c4c008ed3dc4e882005e3": {
      "model_module": "@jupyter-widgets/controls",
      "model_module_version": "2.0.0",
      "model_name": "HTMLModel",
      "state": {
       "layout": "IPY_MODEL_332e5a6d47ae41cb97b83de166b73937",
       "style": "IPY_MODEL_2af6ce5075f04717ba16fea8e7e2fcc6",
       "value": "<h5>Status</h5>"
      }
     },
     "2f4b1f195a3d4fcfbc3b8cfe193e5d39": {
      "model_module": "@jupyter-widgets/base",
      "model_module_version": "2.0.0",
      "model_name": "LayoutModel",
      "state": {}
     },
     "332e5a6d47ae41cb97b83de166b73937": {
      "model_module": "@jupyter-widgets/base",
      "model_module_version": "2.0.0",
      "model_name": "LayoutModel",
      "state": {
       "width": "95px"
      }
     },
     "3c6b46cdd76b4109b553a39c192a7c9c": {
      "model_module": "@jupyter-widgets/controls",
      "model_module_version": "2.0.0",
      "model_name": "HTMLModel",
      "state": {
       "layout": "IPY_MODEL_72792c210f384aed8fdb548c81dcdd10",
       "style": "IPY_MODEL_c429c1f6188e4be29daa1dc7f80ad5fd",
       "value": "<h5>Job ID</h5>"
      }
     },
     "6009f39412b2404aa26cecd9c9f67e61": {
      "model_module": "@jupyter-widgets/base",
      "model_module_version": "2.0.0",
      "model_name": "LayoutModel",
      "state": {
       "margin": "0px 0px 10px 0px"
      }
     },
     "6c07acfb59dc43718a965e6749cad720": {
      "model_module": "@jupyter-widgets/base",
      "model_module_version": "2.0.0",
      "model_name": "LayoutModel",
      "state": {
       "grid_area": "right",
       "padding": "0px 0px 0px 0px",
       "width": "70px"
      }
     },
     "72792c210f384aed8fdb548c81dcdd10": {
      "model_module": "@jupyter-widgets/base",
      "model_module_version": "2.0.0",
      "model_name": "LayoutModel",
      "state": {
       "width": "190px"
      }
     },
     "8371e7d58579482e8cad86f1c62aa057": {
      "model_module": "@jupyter-widgets/controls",
      "model_module_version": "2.0.0",
      "model_name": "HTMLStyleModel",
      "state": {
       "description_width": "",
       "font_size": null,
       "text_color": null
      }
     },
     "8abf4ea870b948b9a3da14bc3cead5d9": {
      "model_module": "@jupyter-widgets/controls",
      "model_module_version": "2.0.0",
      "model_name": "HTMLStyleModel",
      "state": {
       "description_width": "",
       "font_size": null,
       "text_color": null
      }
     },
     "8c88e294193d42d7b3d0259092bad977": {
      "model_module": "@jupyter-widgets/controls",
      "model_module_version": "2.0.0",
      "model_name": "ButtonModel",
      "state": {
       "button_style": "primary",
       "description": "Clear",
       "layout": "IPY_MODEL_6c07acfb59dc43718a965e6749cad720",
       "style": "IPY_MODEL_dc655e271df144b8ad8ef60bb5160c3e",
       "tooltip": null
      }
     },
     "909b0b98a8fc444bbccd5103ffcaffcc": {
      "model_module": "@jupyter-widgets/controls",
      "model_module_version": "2.0.0",
      "model_name": "HTMLModel",
      "state": {
       "layout": "IPY_MODEL_6009f39412b2404aa26cecd9c9f67e61",
       "style": "IPY_MODEL_f4418c26b4e44432986c09e5dd45b921",
       "value": "<p style='font-family: IBM Plex Sans, Arial, Helvetica, sans-serif; font-size: 20px; font-weight: medium;'>Circuit Properties</p>"
      }
     },
     "9a6d03e7393c4da88ae38c97c0a70962": {
      "model_module": "@jupyter-widgets/controls",
      "model_module_version": "2.0.0",
      "model_name": "HTMLStyleModel",
      "state": {
       "description_width": "",
       "font_size": null,
       "text_color": null
      }
     },
     "b68ba77bb0494c718876fa8ae0600f46": {
      "model_module": "@jupyter-widgets/base",
      "model_module_version": "2.0.0",
      "model_name": "LayoutModel",
      "state": {
       "width": "145px"
      }
     },
     "bc3920753c5348a6a5f82a42b5068ad4": {
      "model_module": "@jupyter-widgets/controls",
      "model_module_version": "2.0.0",
      "model_name": "HTMLModel",
      "state": {
       "layout": "IPY_MODEL_2f4b1f195a3d4fcfbc3b8cfe193e5d39",
       "style": "IPY_MODEL_8371e7d58579482e8cad86f1c62aa057",
       "value": "<h5>Message</h5>"
      }
     },
     "c429c1f6188e4be29daa1dc7f80ad5fd": {
      "model_module": "@jupyter-widgets/controls",
      "model_module_version": "2.0.0",
      "model_name": "HTMLStyleModel",
      "state": {
       "description_width": "",
       "font_size": null,
       "text_color": null
      }
     },
     "dc655e271df144b8ad8ef60bb5160c3e": {
      "model_module": "@jupyter-widgets/controls",
      "model_module_version": "2.0.0",
      "model_name": "ButtonStyleModel",
      "state": {
       "font_family": null,
       "font_size": null,
       "font_style": null,
       "font_variant": null,
       "font_weight": null,
       "text_color": null,
       "text_decoration": null
      }
     },
     "e49aa66e3794422c9dd65f1e9f0fe68b": {
      "model_module": "@jupyter-widgets/controls",
      "model_module_version": "2.0.0",
      "model_name": "GridBoxModel",
      "state": {
       "children": [
        "IPY_MODEL_8c88e294193d42d7b3d0259092bad977"
       ],
       "layout": "IPY_MODEL_fa94487bf5eb4713b3a159454a2820ad"
      }
     },
     "f4418c26b4e44432986c09e5dd45b921": {
      "model_module": "@jupyter-widgets/controls",
      "model_module_version": "2.0.0",
      "model_name": "HTMLStyleModel",
      "state": {
       "description_width": "",
       "font_size": null,
       "text_color": null
      }
     },
     "fa94487bf5eb4713b3a159454a2820ad": {
      "model_module": "@jupyter-widgets/base",
      "model_module_version": "2.0.0",
      "model_name": "LayoutModel",
      "state": {
       "grid_template_areas": "\n                                       \". . . . right \"\n                                        ",
       "grid_template_columns": "20% 20% 20% 20% 20%",
       "width": "100%"
      }
     }
    },
    "version_major": 2,
    "version_minor": 0
   }
  }
 },
 "nbformat": 4,
 "nbformat_minor": 5
}
